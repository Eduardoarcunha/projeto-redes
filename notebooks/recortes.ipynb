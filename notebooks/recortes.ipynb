{
 "cells": [
  {
   "cell_type": "code",
   "execution_count": 16,
   "metadata": {},
   "outputs": [],
   "source": [
    "import pandas as pd\n",
    "import matplotlib.pyplot as plt\n",
    "import seaborn as sns\n",
    "import numpy as np\n",
    "import netpixi\n",
    "from netpixi.integration.gt import *\n",
    "from regression.integration.gt import *\n",
    "import cpnet\n",
    "from graph_tool import spectral\n",
    "import regression as reg"
   ]
  },
  {
   "attachments": {},
   "cell_type": "markdown",
   "metadata": {},
   "source": [
    "![](tabela.png)"
   ]
  },
  {
   "cell_type": "code",
   "execution_count": 17,
   "metadata": {},
   "outputs": [
    {
     "data": {
      "text/html": [
       "<div>\n",
       "<style scoped>\n",
       "    .dataframe tbody tr th:only-of-type {\n",
       "        vertical-align: middle;\n",
       "    }\n",
       "\n",
       "    .dataframe tbody tr th {\n",
       "        vertical-align: top;\n",
       "    }\n",
       "\n",
       "    .dataframe thead th {\n",
       "        text-align: right;\n",
       "    }\n",
       "</style>\n",
       "<table border=\"1\" class=\"dataframe\">\n",
       "  <thead>\n",
       "    <tr style=\"text-align: right;\">\n",
       "      <th></th>\n",
       "      <th>Unnamed: 0.1</th>\n",
       "      <th>Unnamed: 0</th>\n",
       "      <th>Publishers</th>\n",
       "      <th>Positive</th>\n",
       "      <th>Negative</th>\n",
       "      <th>TotalReviews</th>\n",
       "      <th>Price</th>\n",
       "      <th>AveragePlaytime</th>\n",
       "      <th>TotalGames</th>\n",
       "      <th>FirstGameYear</th>\n",
       "      <th>Degree</th>\n",
       "      <th>Betweenness</th>\n",
       "      <th>Closeness</th>\n",
       "      <th>Clustering</th>\n",
       "      <th>Coreness</th>\n",
       "      <th>Success</th>\n",
       "      <th>AverageReviews</th>\n",
       "      <th>PublisherSize</th>\n",
       "      <th>GamesSize</th>\n",
       "    </tr>\n",
       "  </thead>\n",
       "  <tbody>\n",
       "    <tr>\n",
       "      <th>0</th>\n",
       "      <td>0</td>\n",
       "      <td>0</td>\n",
       "      <td>Valve</td>\n",
       "      <td>10882766</td>\n",
       "      <td>1243601</td>\n",
       "      <td>12126367</td>\n",
       "      <td>0.122942</td>\n",
       "      <td>0.114181</td>\n",
       "      <td>0.276423</td>\n",
       "      <td>1998</td>\n",
       "      <td>0.082881</td>\n",
       "      <td>0.000221</td>\n",
       "      <td>0.484974</td>\n",
       "      <td>0.713631</td>\n",
       "      <td>0.010891</td>\n",
       "      <td>0.897447</td>\n",
       "      <td>356657.852941</td>\n",
       "      <td>0.003880</td>\n",
       "      <td>0.014038</td>\n",
       "    </tr>\n",
       "    <tr>\n",
       "      <th>1</th>\n",
       "      <td>1</td>\n",
       "      <td>1</td>\n",
       "      <td>Ubisoft</td>\n",
       "      <td>2396991</td>\n",
       "      <td>473534</td>\n",
       "      <td>2870525</td>\n",
       "      <td>0.310507</td>\n",
       "      <td>0.034124</td>\n",
       "      <td>0.910569</td>\n",
       "      <td>2006</td>\n",
       "      <td>0.598761</td>\n",
       "      <td>0.000834</td>\n",
       "      <td>0.703159</td>\n",
       "      <td>0.785671</td>\n",
       "      <td>0.187561</td>\n",
       "      <td>0.835036</td>\n",
       "      <td>25629.687500</td>\n",
       "      <td>0.009648</td>\n",
       "      <td>0.010596</td>\n",
       "    </tr>\n",
       "    <tr>\n",
       "      <th>2</th>\n",
       "      <td>2</td>\n",
       "      <td>2</td>\n",
       "      <td>Electronic Arts</td>\n",
       "      <td>1768202</td>\n",
       "      <td>408321</td>\n",
       "      <td>2176523</td>\n",
       "      <td>0.419758</td>\n",
       "      <td>0.040712</td>\n",
       "      <td>0.682927</td>\n",
       "      <td>2008</td>\n",
       "      <td>0.637490</td>\n",
       "      <td>0.000892</td>\n",
       "      <td>0.722844</td>\n",
       "      <td>0.773622</td>\n",
       "      <td>0.222168</td>\n",
       "      <td>0.812398</td>\n",
       "      <td>25910.988095</td>\n",
       "      <td>0.011671</td>\n",
       "      <td>0.017089</td>\n",
       "    </tr>\n",
       "    <tr>\n",
       "      <th>3</th>\n",
       "      <td>3</td>\n",
       "      <td>3</td>\n",
       "      <td>Bethesda Softworks</td>\n",
       "      <td>1910954</td>\n",
       "      <td>257832</td>\n",
       "      <td>2168786</td>\n",
       "      <td>0.371287</td>\n",
       "      <td>0.035420</td>\n",
       "      <td>0.373984</td>\n",
       "      <td>2007</td>\n",
       "      <td>0.186677</td>\n",
       "      <td>0.000193</td>\n",
       "      <td>0.533692</td>\n",
       "      <td>0.785097</td>\n",
       "      <td>0.050339</td>\n",
       "      <td>0.881117</td>\n",
       "      <td>47147.521739</td>\n",
       "      <td>0.004918</td>\n",
       "      <td>0.013151</td>\n",
       "    </tr>\n",
       "    <tr>\n",
       "      <th>4</th>\n",
       "      <td>4</td>\n",
       "      <td>4</td>\n",
       "      <td>KRAFTON, Inc.</td>\n",
       "      <td>1163353</td>\n",
       "      <td>902690</td>\n",
       "      <td>2066043</td>\n",
       "      <td>0.444407</td>\n",
       "      <td>0.216867</td>\n",
       "      <td>0.024390</td>\n",
       "      <td>2017</td>\n",
       "      <td>0.367157</td>\n",
       "      <td>0.000272</td>\n",
       "      <td>0.603553</td>\n",
       "      <td>0.838075</td>\n",
       "      <td>0.083979</td>\n",
       "      <td>0.563083</td>\n",
       "      <td>688681.000000</td>\n",
       "      <td>0.002351</td>\n",
       "      <td>0.096377</td>\n",
       "    </tr>\n",
       "  </tbody>\n",
       "</table>\n",
       "</div>"
      ],
      "text/plain": [
       "   Unnamed: 0.1  Unnamed: 0          Publishers  Positive  Negative  \\\n",
       "0             0           0               Valve  10882766   1243601   \n",
       "1             1           1             Ubisoft   2396991    473534   \n",
       "2             2           2     Electronic Arts   1768202    408321   \n",
       "3             3           3  Bethesda Softworks   1910954    257832   \n",
       "4             4           4       KRAFTON, Inc.   1163353    902690   \n",
       "\n",
       "   TotalReviews     Price  AveragePlaytime  TotalGames  FirstGameYear  \\\n",
       "0      12126367  0.122942         0.114181    0.276423           1998   \n",
       "1       2870525  0.310507         0.034124    0.910569           2006   \n",
       "2       2176523  0.419758         0.040712    0.682927           2008   \n",
       "3       2168786  0.371287         0.035420    0.373984           2007   \n",
       "4       2066043  0.444407         0.216867    0.024390           2017   \n",
       "\n",
       "     Degree  Betweenness  Closeness  Clustering  Coreness   Success  \\\n",
       "0  0.082881     0.000221   0.484974    0.713631  0.010891  0.897447   \n",
       "1  0.598761     0.000834   0.703159    0.785671  0.187561  0.835036   \n",
       "2  0.637490     0.000892   0.722844    0.773622  0.222168  0.812398   \n",
       "3  0.186677     0.000193   0.533692    0.785097  0.050339  0.881117   \n",
       "4  0.367157     0.000272   0.603553    0.838075  0.083979  0.563083   \n",
       "\n",
       "   AverageReviews  PublisherSize  GamesSize  \n",
       "0   356657.852941       0.003880   0.014038  \n",
       "1    25629.687500       0.009648   0.010596  \n",
       "2    25910.988095       0.011671   0.017089  \n",
       "3    47147.521739       0.004918   0.013151  \n",
       "4   688681.000000       0.002351   0.096377  "
      ]
     },
     "execution_count": 17,
     "metadata": {},
     "output_type": "execute_result"
    }
   ],
   "source": [
    "model_data = pd.read_csv('model_data.csv')\n",
    "model_data['FirstGameYear'] = model_data['FirstGameYear'].astype(int)\n",
    "model_data.head()"
   ]
  },
  {
   "cell_type": "code",
   "execution_count": 49,
   "metadata": {},
   "outputs": [
    {
     "data": {
      "text/plain": [
       "(11570.685185185192, 2019.0)"
      ]
     },
     "execution_count": 49,
     "metadata": {},
     "output_type": "execute_result"
    }
   ],
   "source": [
    "avg_reviews_cut = model_data['AverageReviews'].quantile(0.9) # Top 10%\n",
    "year_cut = model_data['FirstGameYear'].quantile(0.9) # 10 % of the years\n",
    "\n",
    "#total_reviews_cut \n",
    "avg_reviews_cut, year_cut"
   ]
  },
  {
   "cell_type": "code",
   "execution_count": 50,
   "metadata": {},
   "outputs": [
    {
     "data": {
      "text/html": [
       "<div>\n",
       "<style scoped>\n",
       "    .dataframe tbody tr th:only-of-type {\n",
       "        vertical-align: middle;\n",
       "    }\n",
       "\n",
       "    .dataframe tbody tr th {\n",
       "        vertical-align: top;\n",
       "    }\n",
       "\n",
       "    .dataframe thead th {\n",
       "        text-align: right;\n",
       "    }\n",
       "</style>\n",
       "<table border=\"1\" class=\"dataframe\">\n",
       "  <thead>\n",
       "    <tr style=\"text-align: right;\">\n",
       "      <th></th>\n",
       "      <th>Unnamed: 0.1</th>\n",
       "      <th>Unnamed: 0</th>\n",
       "      <th>Publishers</th>\n",
       "      <th>Positive</th>\n",
       "      <th>Negative</th>\n",
       "      <th>TotalReviews</th>\n",
       "      <th>Price</th>\n",
       "      <th>AveragePlaytime</th>\n",
       "      <th>TotalGames</th>\n",
       "      <th>FirstGameYear</th>\n",
       "      <th>Degree</th>\n",
       "      <th>Betweenness</th>\n",
       "      <th>Closeness</th>\n",
       "      <th>Clustering</th>\n",
       "      <th>Coreness</th>\n",
       "      <th>Success</th>\n",
       "      <th>AverageReviews</th>\n",
       "      <th>PublisherSize</th>\n",
       "      <th>GamesSize</th>\n",
       "    </tr>\n",
       "  </thead>\n",
       "  <tbody>\n",
       "    <tr>\n",
       "      <th>66</th>\n",
       "      <td>66</td>\n",
       "      <td>66</td>\n",
       "      <td>KOEI TECMO GAMES CO., LTD.</td>\n",
       "      <td>132739</td>\n",
       "      <td>40124</td>\n",
       "      <td>172863</td>\n",
       "      <td>0.737626</td>\n",
       "      <td>0.066605</td>\n",
       "      <td>0.439024</td>\n",
       "      <td>2014</td>\n",
       "      <td>0.299768</td>\n",
       "      <td>0.000207</td>\n",
       "      <td>0.580225</td>\n",
       "      <td>0.861014</td>\n",
       "      <td>0.093901</td>\n",
       "      <td>0.767886</td>\n",
       "      <td>3201.166667</td>\n",
       "      <td>0.021569</td>\n",
       "      <td>0.049130</td>\n",
       "    </tr>\n",
       "    <tr>\n",
       "      <th>12</th>\n",
       "      <td>12</td>\n",
       "      <td>12</td>\n",
       "      <td>SEGA</td>\n",
       "      <td>759583</td>\n",
       "      <td>105902</td>\n",
       "      <td>865485</td>\n",
       "      <td>0.381533</td>\n",
       "      <td>0.048633</td>\n",
       "      <td>0.837398</td>\n",
       "      <td>2006</td>\n",
       "      <td>0.677769</td>\n",
       "      <td>0.000831</td>\n",
       "      <td>0.746674</td>\n",
       "      <td>0.759032</td>\n",
       "      <td>0.215150</td>\n",
       "      <td>0.877639</td>\n",
       "      <td>8402.766990</td>\n",
       "      <td>0.015538</td>\n",
       "      <td>0.018555</td>\n",
       "    </tr>\n",
       "    <tr>\n",
       "      <th>2</th>\n",
       "      <td>2</td>\n",
       "      <td>2</td>\n",
       "      <td>Electronic Arts</td>\n",
       "      <td>1768202</td>\n",
       "      <td>408321</td>\n",
       "      <td>2176523</td>\n",
       "      <td>0.419758</td>\n",
       "      <td>0.040712</td>\n",
       "      <td>0.682927</td>\n",
       "      <td>2008</td>\n",
       "      <td>0.637490</td>\n",
       "      <td>0.000892</td>\n",
       "      <td>0.722844</td>\n",
       "      <td>0.773622</td>\n",
       "      <td>0.222168</td>\n",
       "      <td>0.812398</td>\n",
       "      <td>25910.988095</td>\n",
       "      <td>0.011671</td>\n",
       "      <td>0.017089</td>\n",
       "    </tr>\n",
       "    <tr>\n",
       "      <th>11</th>\n",
       "      <td>11</td>\n",
       "      <td>11</td>\n",
       "      <td>Square Enix</td>\n",
       "      <td>761266</td>\n",
       "      <td>157731</td>\n",
       "      <td>918997</td>\n",
       "      <td>0.371318</td>\n",
       "      <td>0.027105</td>\n",
       "      <td>1.000000</td>\n",
       "      <td>1999</td>\n",
       "      <td>0.467080</td>\n",
       "      <td>0.000543</td>\n",
       "      <td>0.643249</td>\n",
       "      <td>0.809882</td>\n",
       "      <td>0.115198</td>\n",
       "      <td>0.828366</td>\n",
       "      <td>7471.520325</td>\n",
       "      <td>0.010065</td>\n",
       "      <td>0.010065</td>\n",
       "    </tr>\n",
       "    <tr>\n",
       "      <th>163</th>\n",
       "      <td>163</td>\n",
       "      <td>163</td>\n",
       "      <td>Slitherine Ltd.</td>\n",
       "      <td>36813</td>\n",
       "      <td>8096</td>\n",
       "      <td>44909</td>\n",
       "      <td>0.495438</td>\n",
       "      <td>0.047789</td>\n",
       "      <td>0.422764</td>\n",
       "      <td>2011</td>\n",
       "      <td>0.076685</td>\n",
       "      <td>0.001137</td>\n",
       "      <td>0.495585</td>\n",
       "      <td>0.824572</td>\n",
       "      <td>0.020329</td>\n",
       "      <td>0.819724</td>\n",
       "      <td>863.634615</td>\n",
       "      <td>0.010010</td>\n",
       "      <td>0.023676</td>\n",
       "    </tr>\n",
       "    <tr>\n",
       "      <th>1</th>\n",
       "      <td>1</td>\n",
       "      <td>1</td>\n",
       "      <td>Ubisoft</td>\n",
       "      <td>2396991</td>\n",
       "      <td>473534</td>\n",
       "      <td>2870525</td>\n",
       "      <td>0.310507</td>\n",
       "      <td>0.034124</td>\n",
       "      <td>0.910569</td>\n",
       "      <td>2006</td>\n",
       "      <td>0.598761</td>\n",
       "      <td>0.000834</td>\n",
       "      <td>0.703159</td>\n",
       "      <td>0.785671</td>\n",
       "      <td>0.187561</td>\n",
       "      <td>0.835036</td>\n",
       "      <td>25629.687500</td>\n",
       "      <td>0.009648</td>\n",
       "      <td>0.010596</td>\n",
       "    </tr>\n",
       "    <tr>\n",
       "      <th>16</th>\n",
       "      <td>16</td>\n",
       "      <td>16</td>\n",
       "      <td>BANDAI NAMCO Entertainment</td>\n",
       "      <td>605362</td>\n",
       "      <td>92019</td>\n",
       "      <td>697381</td>\n",
       "      <td>0.430099</td>\n",
       "      <td>0.037119</td>\n",
       "      <td>0.495935</td>\n",
       "      <td>2012</td>\n",
       "      <td>0.518978</td>\n",
       "      <td>0.000596</td>\n",
       "      <td>0.663753</td>\n",
       "      <td>0.802142</td>\n",
       "      <td>0.145450</td>\n",
       "      <td>0.868051</td>\n",
       "      <td>11432.475410</td>\n",
       "      <td>0.007917</td>\n",
       "      <td>0.015965</td>\n",
       "    </tr>\n",
       "    <tr>\n",
       "      <th>8</th>\n",
       "      <td>8</td>\n",
       "      <td>8</td>\n",
       "      <td>Paradox Interactive</td>\n",
       "      <td>973015</td>\n",
       "      <td>129774</td>\n",
       "      <td>1102789</td>\n",
       "      <td>0.291355</td>\n",
       "      <td>0.046481</td>\n",
       "      <td>0.495935</td>\n",
       "      <td>2009</td>\n",
       "      <td>0.357862</td>\n",
       "      <td>0.000419</td>\n",
       "      <td>0.596580</td>\n",
       "      <td>0.816050</td>\n",
       "      <td>0.074298</td>\n",
       "      <td>0.882322</td>\n",
       "      <td>18078.508197</td>\n",
       "      <td>0.006716</td>\n",
       "      <td>0.013542</td>\n",
       "    </tr>\n",
       "    <tr>\n",
       "      <th>23</th>\n",
       "      <td>23</td>\n",
       "      <td>23</td>\n",
       "      <td>Activision</td>\n",
       "      <td>461473</td>\n",
       "      <td>124151</td>\n",
       "      <td>585624</td>\n",
       "      <td>0.463664</td>\n",
       "      <td>0.037114</td>\n",
       "      <td>0.357724</td>\n",
       "      <td>2006</td>\n",
       "      <td>0.281177</td>\n",
       "      <td>0.003542</td>\n",
       "      <td>0.571239</td>\n",
       "      <td>0.751777</td>\n",
       "      <td>0.088577</td>\n",
       "      <td>0.788002</td>\n",
       "      <td>13309.636364</td>\n",
       "      <td>0.006156</td>\n",
       "      <td>0.017209</td>\n",
       "    </tr>\n",
       "    <tr>\n",
       "      <th>35</th>\n",
       "      <td>35</td>\n",
       "      <td>35</td>\n",
       "      <td>THQ Nordic</td>\n",
       "      <td>305125</td>\n",
       "      <td>69625</td>\n",
       "      <td>374750</td>\n",
       "      <td>0.309510</td>\n",
       "      <td>0.021803</td>\n",
       "      <td>0.853659</td>\n",
       "      <td>1997</td>\n",
       "      <td>0.669249</td>\n",
       "      <td>0.000657</td>\n",
       "      <td>0.741528</td>\n",
       "      <td>0.758554</td>\n",
       "      <td>0.215392</td>\n",
       "      <td>0.814209</td>\n",
       "      <td>3569.047619</td>\n",
       "      <td>0.005761</td>\n",
       "      <td>0.006748</td>\n",
       "    </tr>\n",
       "  </tbody>\n",
       "</table>\n",
       "</div>"
      ],
      "text/plain": [
       "     Unnamed: 0.1  Unnamed: 0                  Publishers  Positive  Negative  \\\n",
       "66             66          66  KOEI TECMO GAMES CO., LTD.    132739     40124   \n",
       "12             12          12                        SEGA    759583    105902   \n",
       "2               2           2             Electronic Arts   1768202    408321   \n",
       "11             11          11                 Square Enix    761266    157731   \n",
       "163           163         163             Slitherine Ltd.     36813      8096   \n",
       "1               1           1                     Ubisoft   2396991    473534   \n",
       "16             16          16  BANDAI NAMCO Entertainment    605362     92019   \n",
       "8               8           8         Paradox Interactive    973015    129774   \n",
       "23             23          23                  Activision    461473    124151   \n",
       "35             35          35                  THQ Nordic    305125     69625   \n",
       "\n",
       "     TotalReviews     Price  AveragePlaytime  TotalGames  FirstGameYear  \\\n",
       "66         172863  0.737626         0.066605    0.439024           2014   \n",
       "12         865485  0.381533         0.048633    0.837398           2006   \n",
       "2         2176523  0.419758         0.040712    0.682927           2008   \n",
       "11         918997  0.371318         0.027105    1.000000           1999   \n",
       "163         44909  0.495438         0.047789    0.422764           2011   \n",
       "1         2870525  0.310507         0.034124    0.910569           2006   \n",
       "16         697381  0.430099         0.037119    0.495935           2012   \n",
       "8         1102789  0.291355         0.046481    0.495935           2009   \n",
       "23         585624  0.463664         0.037114    0.357724           2006   \n",
       "35         374750  0.309510         0.021803    0.853659           1997   \n",
       "\n",
       "       Degree  Betweenness  Closeness  Clustering  Coreness   Success  \\\n",
       "66   0.299768     0.000207   0.580225    0.861014  0.093901  0.767886   \n",
       "12   0.677769     0.000831   0.746674    0.759032  0.215150  0.877639   \n",
       "2    0.637490     0.000892   0.722844    0.773622  0.222168  0.812398   \n",
       "11   0.467080     0.000543   0.643249    0.809882  0.115198  0.828366   \n",
       "163  0.076685     0.001137   0.495585    0.824572  0.020329  0.819724   \n",
       "1    0.598761     0.000834   0.703159    0.785671  0.187561  0.835036   \n",
       "16   0.518978     0.000596   0.663753    0.802142  0.145450  0.868051   \n",
       "8    0.357862     0.000419   0.596580    0.816050  0.074298  0.882322   \n",
       "23   0.281177     0.003542   0.571239    0.751777  0.088577  0.788002   \n",
       "35   0.669249     0.000657   0.741528    0.758554  0.215392  0.814209   \n",
       "\n",
       "     AverageReviews  PublisherSize  GamesSize  \n",
       "66      3201.166667       0.021569   0.049130  \n",
       "12      8402.766990       0.015538   0.018555  \n",
       "2      25910.988095       0.011671   0.017089  \n",
       "11      7471.520325       0.010065   0.010065  \n",
       "163      863.634615       0.010010   0.023676  \n",
       "1      25629.687500       0.009648   0.010596  \n",
       "16     11432.475410       0.007917   0.015965  \n",
       "8      18078.508197       0.006716   0.013542  \n",
       "23     13309.636364       0.006156   0.017209  \n",
       "35      3569.047619       0.005761   0.006748  "
      ]
     },
     "execution_count": 50,
     "metadata": {},
     "output_type": "execute_result"
    }
   ],
   "source": [
    "# Order by Publisher size\n",
    "model_data.sort_values(by=['PublisherSize'], ascending=False).head(10)"
   ]
  },
  {
   "cell_type": "code",
   "execution_count": 51,
   "metadata": {},
   "outputs": [
    {
     "data": {
      "image/png": "[encoded data removed]",
      "text/plain": [
       "<Figure size 640x480 with 1 Axes>"
      ]
     },
     "metadata": {},
     "output_type": "display_data"
    }
   ],
   "source": [
    "year_hist = sns.histplot(model_data['FirstGameYear'])"
   ]
  },
  {
   "cell_type": "code",
   "execution_count": 52,
   "metadata": {},
   "outputs": [
    {
     "data": {
      "text/plain": [
       "(0.0, 30000.0)"
      ]
     },
     "execution_count": 52,
     "metadata": {},
     "output_type": "execute_result"
    },
    {
     "data": {
      "image/png": "[encoded data removed]",
      "text/plain": [
       "<Figure size 640x480 with 1 Axes>"
      ]
     },
     "metadata": {},
     "output_type": "display_data"
    }
   ],
   "source": [
    "# sns hist average reviews\n",
    "avg_hist = sns.histplot(model_data['AverageReviews'], bins=1000)\n",
    "avg_hist.set_xlim([0, 30000])"
   ]
  },
  {
   "attachments": {},
   "cell_type": "markdown",
   "metadata": {},
   "source": [
    "### Somente análise para empresas gigantes X Somente análise para empresas novas"
   ]
  },
  {
   "cell_type": "code",
   "execution_count": 53,
   "metadata": {
    "scrolled": true
   },
   "outputs": [],
   "source": [
    "new_big_publishers = model_data[(model_data['FirstGameYear'] > year_cut) & (model_data['AverageReviews'] > avg_reviews_cut)]\n",
    "result_new_big = reg.linear(data=new_big_publishers, formula='Success ~ Clustering + GamesSize')\n",
    "#new_big_publishers"
   ]
  },
  {
   "cell_type": "code",
   "execution_count": 54,
   "metadata": {},
   "outputs": [],
   "source": [
    "#result_new_big.summary()"
   ]
  },
  {
   "cell_type": "code",
   "execution_count": 55,
   "metadata": {},
   "outputs": [
    {
     "data": {
      "text/html": [
       "<style type=\"text/css\">\n",
       "</style>\n",
       "<table id=\"T_80803\">\n",
       "  <thead>\n",
       "    <tr>\n",
       "      <th id=\"T_80803_level0_col0\" class=\"col_heading level0 col0\" >variable</th>\n",
       "      <th id=\"T_80803_level0_col1\" class=\"col_heading level0 col1\" >coefficient</th>\n",
       "      <th id=\"T_80803_level0_col2\" class=\"col_heading level0 col2\" >std error</th>\n",
       "      <th id=\"T_80803_level0_col3\" class=\"col_heading level0 col3\" >p-value</th>\n",
       "    </tr>\n",
       "  </thead>\n",
       "  <tbody>\n",
       "    <tr>\n",
       "      <td id=\"T_80803_row0_col0\" class=\"data row0 col0\" >Clustering</td>\n",
       "      <td id=\"T_80803_row0_col1\" class=\"data row0 col1\" >-0.158232</td>\n",
       "      <td id=\"T_80803_row0_col2\" class=\"data row0 col2\" >0.346272</td>\n",
       "      <td id=\"T_80803_row0_col3\" class=\"data row0 col3\" >0.678759</td>\n",
       "    </tr>\n",
       "    <tr>\n",
       "      <td id=\"T_80803_row1_col0\" class=\"data row1 col0\" >GamesSize</td>\n",
       "      <td id=\"T_80803_row1_col1\" class=\"data row1 col1\" >-4.298470</td>\n",
       "      <td id=\"T_80803_row1_col2\" class=\"data row1 col2\" >1.143354</td>\n",
       "      <td id=\"T_80803_row1_col3\" class=\"data row1 col3\" >0.032901</td>\n",
       "    </tr>\n",
       "  </tbody>\n",
       "</table>\n"
      ],
      "text/plain": [
       "<pandas.io.formats.style.Styler at 0x7f652096fc10>"
      ]
     },
     "execution_count": 55,
     "metadata": {},
     "output_type": "execute_result"
    }
   ],
   "source": [
    "result_new_big.micro_summary()"
   ]
  },
  {
   "cell_type": "code",
   "execution_count": 56,
   "metadata": {},
   "outputs": [
    {
     "data": {
      "text/html": [
       "<style type=\"text/css\">\n",
       "#T_5b09a_row0_col0, #T_5b09a_row1_col0 {\n",
       "  font-family: monospace;\n",
       "  text-align: left;\n",
       "}\n",
       "</style>\n",
       "<table id=\"T_5b09a\">\n",
       "  <thead>\n",
       "  </thead>\n",
       "  <tbody>\n",
       "    <tr>\n",
       "      <td id=\"T_5b09a_row0_col0\" class=\"data row0 col0\" >-0.158 (0.346)</td>\n",
       "    </tr>\n",
       "    <tr>\n",
       "      <td id=\"T_5b09a_row1_col0\" class=\"data row1 col0\" >-4.298 (1.143) **</td>\n",
       "    </tr>\n",
       "  </tbody>\n",
       "</table>\n"
      ],
      "text/plain": [
       "<pandas.io.formats.style.Styler at 0x7f6517b27f70>"
      ]
     },
     "execution_count": 56,
     "metadata": {},
     "output_type": "execute_result"
    }
   ],
   "source": [
    "result_new_big.nano_summary()"
   ]
  },
  {
   "attachments": {},
   "cell_type": "markdown",
   "metadata": {},
   "source": [
    "### Somente análise para empresas gigantes X Tudo exceto análise para empresas novas"
   ]
  },
  {
   "cell_type": "code",
   "execution_count": 57,
   "metadata": {},
   "outputs": [],
   "source": [
    "old_big_publishers = model_data[(model_data['FirstGameYear'] < year_cut) & (model_data['AverageReviews'] > avg_reviews_cut)]\n",
    "result_old_big = reg.linear(data=old_big_publishers, formula='Success ~ Clustering + GamesSize')"
   ]
  },
  {
   "cell_type": "code",
   "execution_count": 58,
   "metadata": {
    "scrolled": false
   },
   "outputs": [],
   "source": [
    "#result_old_big.summary()"
   ]
  },
  {
   "cell_type": "code",
   "execution_count": 59,
   "metadata": {},
   "outputs": [
    {
     "data": {
      "text/html": [
       "<style type=\"text/css\">\n",
       "</style>\n",
       "<table id=\"T_3b6e4\">\n",
       "  <thead>\n",
       "    <tr>\n",
       "      <th id=\"T_3b6e4_level0_col0\" class=\"col_heading level0 col0\" >variable</th>\n",
       "      <th id=\"T_3b6e4_level0_col1\" class=\"col_heading level0 col1\" >coefficient</th>\n",
       "      <th id=\"T_3b6e4_level0_col2\" class=\"col_heading level0 col2\" >std error</th>\n",
       "      <th id=\"T_3b6e4_level0_col3\" class=\"col_heading level0 col3\" >p-value</th>\n",
       "    </tr>\n",
       "  </thead>\n",
       "  <tbody>\n",
       "    <tr>\n",
       "      <td id=\"T_3b6e4_row0_col0\" class=\"data row0 col0\" >Clustering</td>\n",
       "      <td id=\"T_3b6e4_row0_col1\" class=\"data row0 col1\" >-0.210443</td>\n",
       "      <td id=\"T_3b6e4_row0_col2\" class=\"data row0 col2\" >0.123302</td>\n",
       "      <td id=\"T_3b6e4_row0_col3\" class=\"data row0 col3\" >0.090504</td>\n",
       "    </tr>\n",
       "    <tr>\n",
       "      <td id=\"T_3b6e4_row1_col0\" class=\"data row1 col0\" >GamesSize</td>\n",
       "      <td id=\"T_3b6e4_row1_col1\" class=\"data row1 col1\" >-0.612389</td>\n",
       "      <td id=\"T_3b6e4_row1_col2\" class=\"data row1 col2\" >0.572890</td>\n",
       "      <td id=\"T_3b6e4_row1_col3\" class=\"data row1 col3\" >0.287275</td>\n",
       "    </tr>\n",
       "  </tbody>\n",
       "</table>\n"
      ],
      "text/plain": [
       "<pandas.io.formats.style.Styler at 0x7f652098c820>"
      ]
     },
     "execution_count": 59,
     "metadata": {},
     "output_type": "execute_result"
    }
   ],
   "source": [
    "result_old_big.micro_summary()"
   ]
  },
  {
   "cell_type": "code",
   "execution_count": 60,
   "metadata": {
    "scrolled": false
   },
   "outputs": [
    {
     "data": {
      "text/html": [
       "<style type=\"text/css\">\n",
       "#T_e551f_row0_col0, #T_e551f_row1_col0 {\n",
       "  font-family: monospace;\n",
       "  text-align: left;\n",
       "}\n",
       "</style>\n",
       "<table id=\"T_e551f\">\n",
       "  <thead>\n",
       "  </thead>\n",
       "  <tbody>\n",
       "    <tr>\n",
       "      <td id=\"T_e551f_row0_col0\" class=\"data row0 col0\" >-0.210 (0.123) *</td>\n",
       "    </tr>\n",
       "    <tr>\n",
       "      <td id=\"T_e551f_row1_col0\" class=\"data row1 col0\" >-0.612 (0.573)</td>\n",
       "    </tr>\n",
       "  </tbody>\n",
       "</table>\n"
      ],
      "text/plain": [
       "<pandas.io.formats.style.Styler at 0x7f65173b43d0>"
      ]
     },
     "execution_count": 60,
     "metadata": {},
     "output_type": "execute_result"
    }
   ],
   "source": [
    "result_old_big.nano_summary()"
   ]
  },
  {
   "attachments": {},
   "cell_type": "markdown",
   "metadata": {},
   "source": [
    "### Somente análise para empresas gigantes X Tudo"
   ]
  },
  {
   "cell_type": "code",
   "execution_count": 61,
   "metadata": {},
   "outputs": [],
   "source": [
    "big_publishers = model_data[model_data['AverageReviews'] > avg_reviews_cut]\n",
    "result_big = reg.linear(data=big_publishers, formula='Success ~ Clustering + GamesSize')"
   ]
  },
  {
   "cell_type": "code",
   "execution_count": 62,
   "metadata": {},
   "outputs": [],
   "source": [
    "# result_big.summary()"
   ]
  },
  {
   "cell_type": "code",
   "execution_count": 63,
   "metadata": {},
   "outputs": [
    {
     "data": {
      "text/html": [
       "<style type=\"text/css\">\n",
       "#T_06f06_row0_col0, #T_06f06_row1_col0 {\n",
       "  font-family: monospace;\n",
       "  text-align: left;\n",
       "}\n",
       "</style>\n",
       "<table id=\"T_06f06\">\n",
       "  <thead>\n",
       "  </thead>\n",
       "  <tbody>\n",
       "    <tr>\n",
       "      <td id=\"T_06f06_row0_col0\" class=\"data row0 col0\" >-0.157 (0.117)</td>\n",
       "    </tr>\n",
       "    <tr>\n",
       "      <td id=\"T_06f06_row1_col0\" class=\"data row1 col0\" >-0.849 (0.553)</td>\n",
       "    </tr>\n",
       "  </tbody>\n",
       "</table>\n"
      ],
      "text/plain": [
       "<pandas.io.formats.style.Styler at 0x7f65173b68f0>"
      ]
     },
     "execution_count": 63,
     "metadata": {},
     "output_type": "execute_result"
    }
   ],
   "source": [
    "result_big.nano_summary()"
   ]
  },
  {
   "attachments": {},
   "cell_type": "markdown",
   "metadata": {},
   "source": [
    "### Tudo exceto análise para empresas gigantes X Somente análise para empresas novas"
   ]
  },
  {
   "cell_type": "code",
   "execution_count": 64,
   "metadata": {},
   "outputs": [],
   "source": [
    "new_small_publishers = model_data[(model_data['FirstGameYear'] > year_cut) & (model_data['AverageReviews'] < avg_reviews_cut)]\n",
    "result_new_small = reg.linear(data=new_small_publishers, formula='Success ~ Clustering + GamesSize')"
   ]
  },
  {
   "cell_type": "code",
   "execution_count": 65,
   "metadata": {},
   "outputs": [],
   "source": [
    "#result_new_small.summary()"
   ]
  },
  {
   "cell_type": "code",
   "execution_count": 66,
   "metadata": {},
   "outputs": [
    {
     "data": {
      "text/html": [
       "<style type=\"text/css\">\n",
       "</style>\n",
       "<table id=\"T_f0e07\">\n",
       "  <thead>\n",
       "    <tr>\n",
       "      <th id=\"T_f0e07_level0_col0\" class=\"col_heading level0 col0\" >variable</th>\n",
       "      <th id=\"T_f0e07_level0_col1\" class=\"col_heading level0 col1\" >coefficient</th>\n",
       "      <th id=\"T_f0e07_level0_col2\" class=\"col_heading level0 col2\" >std error</th>\n",
       "      <th id=\"T_f0e07_level0_col3\" class=\"col_heading level0 col3\" >p-value</th>\n",
       "    </tr>\n",
       "  </thead>\n",
       "  <tbody>\n",
       "    <tr>\n",
       "      <td id=\"T_f0e07_row0_col0\" class=\"data row0 col0\" >Clustering</td>\n",
       "      <td id=\"T_f0e07_row0_col1\" class=\"data row0 col1\" >0.237629</td>\n",
       "      <td id=\"T_f0e07_row0_col2\" class=\"data row0 col2\" >0.133502</td>\n",
       "      <td id=\"T_f0e07_row0_col3\" class=\"data row0 col3\" >0.078786</td>\n",
       "    </tr>\n",
       "    <tr>\n",
       "      <td id=\"T_f0e07_row1_col0\" class=\"data row1 col0\" >GamesSize</td>\n",
       "      <td id=\"T_f0e07_row1_col1\" class=\"data row1 col1\" >3.910036</td>\n",
       "      <td id=\"T_f0e07_row1_col2\" class=\"data row1 col2\" >2.303623</td>\n",
       "      <td id=\"T_f0e07_row1_col3\" class=\"data row1 col3\" >0.093425</td>\n",
       "    </tr>\n",
       "  </tbody>\n",
       "</table>\n"
      ],
      "text/plain": [
       "<pandas.io.formats.style.Styler at 0x7f65173b49a0>"
      ]
     },
     "execution_count": 66,
     "metadata": {},
     "output_type": "execute_result"
    }
   ],
   "source": [
    "result_new_small.micro_summary()"
   ]
  },
  {
   "cell_type": "code",
   "execution_count": 67,
   "metadata": {},
   "outputs": [
    {
     "data": {
      "text/html": [
       "<style type=\"text/css\">\n",
       "#T_8867b_row0_col0, #T_8867b_row1_col0 {\n",
       "  font-family: monospace;\n",
       "  text-align: left;\n",
       "}\n",
       "</style>\n",
       "<table id=\"T_8867b\">\n",
       "  <thead>\n",
       "  </thead>\n",
       "  <tbody>\n",
       "    <tr>\n",
       "      <td id=\"T_8867b_row0_col0\" class=\"data row0 col0\" >+0.238 (0.134) *</td>\n",
       "    </tr>\n",
       "    <tr>\n",
       "      <td id=\"T_8867b_row1_col0\" class=\"data row1 col0\" >+3.910 (2.304) *</td>\n",
       "    </tr>\n",
       "  </tbody>\n",
       "</table>\n"
      ],
      "text/plain": [
       "<pandas.io.formats.style.Styler at 0x7f65173b45e0>"
      ]
     },
     "execution_count": 67,
     "metadata": {},
     "output_type": "execute_result"
    }
   ],
   "source": [
    "result_new_small.nano_summary()"
   ]
  },
  {
   "attachments": {},
   "cell_type": "markdown",
   "metadata": {},
   "source": [
    "### Tudo exceto análise para empresas gigantes X Tudo exceto análise para empresas novas"
   ]
  },
  {
   "cell_type": "code",
   "execution_count": 68,
   "metadata": {},
   "outputs": [],
   "source": [
    "old_small_publishers = model_data[(model_data['FirstGameYear'] < year_cut) & (model_data['AverageReviews'] < avg_reviews_cut)]\n",
    "result_old_small = reg.linear(data=old_small_publishers, formula='Success ~ Clustering + GamesSize')"
   ]
  },
  {
   "cell_type": "code",
   "execution_count": 69,
   "metadata": {},
   "outputs": [],
   "source": [
    "#result_old_small.summary()"
   ]
  },
  {
   "cell_type": "code",
   "execution_count": 70,
   "metadata": {},
   "outputs": [
    {
     "data": {
      "text/html": [
       "<style type=\"text/css\">\n",
       "</style>\n",
       "<table id=\"T_3e5c8\">\n",
       "  <thead>\n",
       "    <tr>\n",
       "      <th id=\"T_3e5c8_level0_col0\" class=\"col_heading level0 col0\" >variable</th>\n",
       "      <th id=\"T_3e5c8_level0_col1\" class=\"col_heading level0 col1\" >coefficient</th>\n",
       "      <th id=\"T_3e5c8_level0_col2\" class=\"col_heading level0 col2\" >std error</th>\n",
       "      <th id=\"T_3e5c8_level0_col3\" class=\"col_heading level0 col3\" >p-value</th>\n",
       "    </tr>\n",
       "  </thead>\n",
       "  <tbody>\n",
       "    <tr>\n",
       "      <td id=\"T_3e5c8_row0_col0\" class=\"data row0 col0\" >Clustering</td>\n",
       "      <td id=\"T_3e5c8_row0_col1\" class=\"data row0 col1\" >0.179537</td>\n",
       "      <td id=\"T_3e5c8_row0_col2\" class=\"data row0 col2\" >0.044665</td>\n",
       "      <td id=\"T_3e5c8_row0_col3\" class=\"data row0 col3\" >0.000063</td>\n",
       "    </tr>\n",
       "    <tr>\n",
       "      <td id=\"T_3e5c8_row1_col0\" class=\"data row1 col0\" >GamesSize</td>\n",
       "      <td id=\"T_3e5c8_row1_col1\" class=\"data row1 col1\" >1.251472</td>\n",
       "      <td id=\"T_3e5c8_row1_col2\" class=\"data row1 col2\" >0.519805</td>\n",
       "      <td id=\"T_3e5c8_row1_col3\" class=\"data row1 col3\" >0.016236</td>\n",
       "    </tr>\n",
       "  </tbody>\n",
       "</table>\n"
      ],
      "text/plain": [
       "<pandas.io.formats.style.Styler at 0x7f65179ea4d0>"
      ]
     },
     "execution_count": 70,
     "metadata": {},
     "output_type": "execute_result"
    }
   ],
   "source": [
    "result_old_small.micro_summary()"
   ]
  },
  {
   "cell_type": "code",
   "execution_count": 71,
   "metadata": {},
   "outputs": [
    {
     "data": {
      "text/html": [
       "<style type=\"text/css\">\n",
       "#T_08292_row0_col0, #T_08292_row1_col0 {\n",
       "  font-family: monospace;\n",
       "  text-align: left;\n",
       "}\n",
       "</style>\n",
       "<table id=\"T_08292\">\n",
       "  <thead>\n",
       "  </thead>\n",
       "  <tbody>\n",
       "    <tr>\n",
       "      <td id=\"T_08292_row0_col0\" class=\"data row0 col0\" >+0.180 (0.045) ***</td>\n",
       "    </tr>\n",
       "    <tr>\n",
       "      <td id=\"T_08292_row1_col0\" class=\"data row1 col0\" >+1.251 (0.520) **</td>\n",
       "    </tr>\n",
       "  </tbody>\n",
       "</table>\n"
      ],
      "text/plain": [
       "<pandas.io.formats.style.Styler at 0x7f65173c71c0>"
      ]
     },
     "execution_count": 71,
     "metadata": {},
     "output_type": "execute_result"
    }
   ],
   "source": [
    "result_old_small.nano_summary()"
   ]
  },
  {
   "attachments": {},
   "cell_type": "markdown",
   "metadata": {},
   "source": [
    "### Tudo exceto análise para empresas gigantes X Tudo"
   ]
  },
  {
   "cell_type": "code",
   "execution_count": 72,
   "metadata": {},
   "outputs": [],
   "source": [
    "small_publishers = model_data[model_data['AverageReviews'] < avg_reviews_cut]\n",
    "result_small = reg.linear(data=small_publishers, formula='Success ~ Clustering + GamesSize')"
   ]
  },
  {
   "cell_type": "code",
   "execution_count": 73,
   "metadata": {},
   "outputs": [],
   "source": [
    "#result_small.summary()"
   ]
  },
  {
   "cell_type": "code",
   "execution_count": 74,
   "metadata": {},
   "outputs": [
    {
     "data": {
      "text/html": [
       "<style type=\"text/css\">\n",
       "</style>\n",
       "<table id=\"T_0efe6\">\n",
       "  <thead>\n",
       "    <tr>\n",
       "      <th id=\"T_0efe6_level0_col0\" class=\"col_heading level0 col0\" >variable</th>\n",
       "      <th id=\"T_0efe6_level0_col1\" class=\"col_heading level0 col1\" >coefficient</th>\n",
       "      <th id=\"T_0efe6_level0_col2\" class=\"col_heading level0 col2\" >std error</th>\n",
       "      <th id=\"T_0efe6_level0_col3\" class=\"col_heading level0 col3\" >p-value</th>\n",
       "    </tr>\n",
       "  </thead>\n",
       "  <tbody>\n",
       "    <tr>\n",
       "      <td id=\"T_0efe6_row0_col0\" class=\"data row0 col0\" >Clustering</td>\n",
       "      <td id=\"T_0efe6_row0_col1\" class=\"data row0 col1\" >0.179184</td>\n",
       "      <td id=\"T_0efe6_row0_col2\" class=\"data row0 col2\" >0.041607</td>\n",
       "      <td id=\"T_0efe6_row0_col3\" class=\"data row0 col3\" >0.000018</td>\n",
       "    </tr>\n",
       "    <tr>\n",
       "      <td id=\"T_0efe6_row1_col0\" class=\"data row1 col0\" >GamesSize</td>\n",
       "      <td id=\"T_0efe6_row1_col1\" class=\"data row1 col1\" >1.118936</td>\n",
       "      <td id=\"T_0efe6_row1_col2\" class=\"data row1 col2\" >0.484942</td>\n",
       "      <td id=\"T_0efe6_row1_col3\" class=\"data row1 col3\" >0.021210</td>\n",
       "    </tr>\n",
       "  </tbody>\n",
       "</table>\n"
      ],
      "text/plain": [
       "<pandas.io.formats.style.Styler at 0x7f65173c4cd0>"
      ]
     },
     "execution_count": 74,
     "metadata": {},
     "output_type": "execute_result"
    }
   ],
   "source": [
    "result_small.micro_summary()"
   ]
  },
  {
   "cell_type": "code",
   "execution_count": 75,
   "metadata": {
    "scrolled": true
   },
   "outputs": [
    {
     "data": {
      "text/html": [
       "<style type=\"text/css\">\n",
       "#T_0d8b8_row0_col0, #T_0d8b8_row1_col0 {\n",
       "  font-family: monospace;\n",
       "  text-align: left;\n",
       "}\n",
       "</style>\n",
       "<table id=\"T_0d8b8\">\n",
       "  <thead>\n",
       "  </thead>\n",
       "  <tbody>\n",
       "    <tr>\n",
       "      <td id=\"T_0d8b8_row0_col0\" class=\"data row0 col0\" >+0.179 (0.042) ***</td>\n",
       "    </tr>\n",
       "    <tr>\n",
       "      <td id=\"T_0d8b8_row1_col0\" class=\"data row1 col0\" >+1.119 (0.485) **</td>\n",
       "    </tr>\n",
       "  </tbody>\n",
       "</table>\n"
      ],
      "text/plain": [
       "<pandas.io.formats.style.Styler at 0x7f65173c6e30>"
      ]
     },
     "execution_count": 75,
     "metadata": {},
     "output_type": "execute_result"
    }
   ],
   "source": [
    "result_small.nano_summary()"
   ]
  },
  {
   "attachments": {},
   "cell_type": "markdown",
   "metadata": {},
   "source": [
    "### Tudo X Somente análise para empresas novas"
   ]
  },
  {
   "cell_type": "code",
   "execution_count": 76,
   "metadata": {},
   "outputs": [],
   "source": [
    "new_publishers = model_data[model_data['FirstGameYear'] > year_cut]\n",
    "result_new = reg.linear(data=new_publishers, formula='Success ~ Clustering + GamesSize')"
   ]
  },
  {
   "cell_type": "code",
   "execution_count": 77,
   "metadata": {},
   "outputs": [
    {
     "data": {
      "text/html": [
       "<style type=\"text/css\">\n",
       "</style>\n",
       "<table id=\"T_53a5f\">\n",
       "  <thead>\n",
       "    <tr>\n",
       "      <th id=\"T_53a5f_level0_col0\" class=\"col_heading level0 col0\" >variable</th>\n",
       "      <th id=\"T_53a5f_level0_col1\" class=\"col_heading level0 col1\" >coefficient</th>\n",
       "      <th id=\"T_53a5f_level0_col2\" class=\"col_heading level0 col2\" >std error</th>\n",
       "      <th id=\"T_53a5f_level0_col3\" class=\"col_heading level0 col3\" >p-value</th>\n",
       "    </tr>\n",
       "  </thead>\n",
       "  <tbody>\n",
       "    <tr>\n",
       "      <td id=\"T_53a5f_row0_col0\" class=\"data row0 col0\" >Clustering</td>\n",
       "      <td id=\"T_53a5f_row0_col1\" class=\"data row0 col1\" >0.174243</td>\n",
       "      <td id=\"T_53a5f_row0_col2\" class=\"data row0 col2\" >0.131104</td>\n",
       "      <td id=\"T_53a5f_row0_col3\" class=\"data row0 col3\" >0.187270</td>\n",
       "    </tr>\n",
       "    <tr>\n",
       "      <td id=\"T_53a5f_row1_col0\" class=\"data row1 col0\" >GamesSize</td>\n",
       "      <td id=\"T_53a5f_row1_col1\" class=\"data row1 col1\" >-0.616420</td>\n",
       "      <td id=\"T_53a5f_row1_col2\" class=\"data row1 col2\" >1.343003</td>\n",
       "      <td id=\"T_53a5f_row1_col3\" class=\"data row1 col3\" >0.647376</td>\n",
       "    </tr>\n",
       "  </tbody>\n",
       "</table>\n"
      ],
      "text/plain": [
       "<pandas.io.formats.style.Styler at 0x7f65173c6650>"
      ]
     },
     "execution_count": 77,
     "metadata": {},
     "output_type": "execute_result"
    }
   ],
   "source": [
    "result_new.micro_summary()"
   ]
  },
  {
   "cell_type": "code",
   "execution_count": 78,
   "metadata": {},
   "outputs": [
    {
     "data": {
      "text/html": [
       "<style type=\"text/css\">\n",
       "#T_06fdf_row0_col0, #T_06fdf_row1_col0 {\n",
       "  font-family: monospace;\n",
       "  text-align: left;\n",
       "}\n",
       "</style>\n",
       "<table id=\"T_06fdf\">\n",
       "  <thead>\n",
       "  </thead>\n",
       "  <tbody>\n",
       "    <tr>\n",
       "      <td id=\"T_06fdf_row0_col0\" class=\"data row0 col0\" >+0.174 (0.131)</td>\n",
       "    </tr>\n",
       "    <tr>\n",
       "      <td id=\"T_06fdf_row1_col0\" class=\"data row1 col0\" >-0.616 (1.343)</td>\n",
       "    </tr>\n",
       "  </tbody>\n",
       "</table>\n"
      ],
      "text/plain": [
       "<pandas.io.formats.style.Styler at 0x7f65173c54e0>"
      ]
     },
     "execution_count": 78,
     "metadata": {},
     "output_type": "execute_result"
    }
   ],
   "source": [
    "result_new.nano_summary()"
   ]
  },
  {
   "cell_type": "code",
   "execution_count": 79,
   "metadata": {},
   "outputs": [],
   "source": [
    "#result_new.plot_residuals()"
   ]
  },
  {
   "attachments": {},
   "cell_type": "markdown",
   "metadata": {},
   "source": [
    "### Tudo X Tudo exceto análise para empresas novas"
   ]
  },
  {
   "cell_type": "code",
   "execution_count": 80,
   "metadata": {},
   "outputs": [],
   "source": [
    "old_publishers = model_data[model_data['FirstGameYear'] < year_cut]\n",
    "result_old = reg.linear(data=old_publishers, formula='Success ~ Clustering + GamesSize')"
   ]
  },
  {
   "cell_type": "code",
   "execution_count": 81,
   "metadata": {},
   "outputs": [],
   "source": [
    "#result_old.summary()"
   ]
  },
  {
   "cell_type": "code",
   "execution_count": 82,
   "metadata": {},
   "outputs": [
    {
     "data": {
      "text/html": [
       "<style type=\"text/css\">\n",
       "</style>\n",
       "<table id=\"T_5b92f\">\n",
       "  <thead>\n",
       "    <tr>\n",
       "      <th id=\"T_5b92f_level0_col0\" class=\"col_heading level0 col0\" >variable</th>\n",
       "      <th id=\"T_5b92f_level0_col1\" class=\"col_heading level0 col1\" >coefficient</th>\n",
       "      <th id=\"T_5b92f_level0_col2\" class=\"col_heading level0 col2\" >std error</th>\n",
       "      <th id=\"T_5b92f_level0_col3\" class=\"col_heading level0 col3\" >p-value</th>\n",
       "    </tr>\n",
       "  </thead>\n",
       "  <tbody>\n",
       "    <tr>\n",
       "      <td id=\"T_5b92f_row0_col0\" class=\"data row0 col0\" >Clustering</td>\n",
       "      <td id=\"T_5b92f_row0_col1\" class=\"data row0 col1\" >0.149096</td>\n",
       "      <td id=\"T_5b92f_row0_col2\" class=\"data row0 col2\" >0.042395</td>\n",
       "      <td id=\"T_5b92f_row0_col3\" class=\"data row0 col3\" >0.000454</td>\n",
       "    </tr>\n",
       "    <tr>\n",
       "      <td id=\"T_5b92f_row1_col0\" class=\"data row1 col0\" >GamesSize</td>\n",
       "      <td id=\"T_5b92f_row1_col1\" class=\"data row1 col1\" >1.143140</td>\n",
       "      <td id=\"T_5b92f_row1_col2\" class=\"data row1 col2\" >0.390446</td>\n",
       "      <td id=\"T_5b92f_row1_col3\" class=\"data row1 col3\" >0.003482</td>\n",
       "    </tr>\n",
       "  </tbody>\n",
       "</table>\n"
      ],
      "text/plain": [
       "<pandas.io.formats.style.Styler at 0x7f65173c62c0>"
      ]
     },
     "execution_count": 82,
     "metadata": {},
     "output_type": "execute_result"
    }
   ],
   "source": [
    "result_old.micro_summary()"
   ]
  },
  {
   "cell_type": "code",
   "execution_count": 83,
   "metadata": {},
   "outputs": [
    {
     "data": {
      "text/html": [
       "<style type=\"text/css\">\n",
       "#T_7c327_row0_col0, #T_7c327_row1_col0 {\n",
       "  font-family: monospace;\n",
       "  text-align: left;\n",
       "}\n",
       "</style>\n",
       "<table id=\"T_7c327\">\n",
       "  <thead>\n",
       "  </thead>\n",
       "  <tbody>\n",
       "    <tr>\n",
       "      <td id=\"T_7c327_row0_col0\" class=\"data row0 col0\" >+0.149 (0.042) ***</td>\n",
       "    </tr>\n",
       "    <tr>\n",
       "      <td id=\"T_7c327_row1_col0\" class=\"data row1 col0\" >+1.143 (0.390) ***</td>\n",
       "    </tr>\n",
       "  </tbody>\n",
       "</table>\n"
      ],
      "text/plain": [
       "<pandas.io.formats.style.Styler at 0x7f65173b6320>"
      ]
     },
     "execution_count": 83,
     "metadata": {},
     "output_type": "execute_result"
    }
   ],
   "source": [
    "result_old.nano_summary()"
   ]
  },
  {
   "cell_type": "code",
   "execution_count": null,
   "metadata": {},
   "outputs": [],
   "source": []
  }
 ],
 "metadata": {
  "kernelspec": {
   "display_name": "Python 3 (ipykernel)",
   "language": "python",
   "name": "python3"
  },
  "language_info": {
   "codemirror_mode": {
    "name": "ipython",
    "version": 3
   },
   "file_extension": ".py",
   "mimetype": "text/x-python",
   "name": "python",
   "nbconvert_exporter": "python",
   "pygments_lexer": "ipython3",
   "version": "3.10.10"
  }
 },
 "nbformat": 4,
 "nbformat_minor": 2
}
